{
 "cells": [
  {
   "cell_type": "code",
   "execution_count": 39,
   "metadata": {},
   "outputs": [],
   "source": [
    "from preprocess_data import decode_N_WGAN_GP\n",
    "from load_data import get_datasets_and_info\n",
    "from hyperparams import DEFAULT_HYPERPARAMS_TO_TUNE\n",
    "from gan_tuner_model import GANTunerModelCV\n",
    "from gan import CIDDS_WCGAN_GP, StopTrainingOnNaNCallback\n",
    "import keras_tuner as kt\n",
    "import logging\n",
    "import numpy as np\n",
    "from pathlib import Path\n"
   ]
  },
  {
   "cell_type": "code",
   "execution_count": 25,
   "metadata": {},
   "outputs": [],
   "source": [
    "# get train and test datasets\n",
    "dataset_info = get_datasets_and_info()\n",
    "\n",
    "# output dim is the number of features (WITHOUT the labels)\n",
    "output_dim = dataset_info[\"folds\"][0][\"X_test\"].shape[1]\n",
    "X_encoders = dataset_info[\"X_encoders\"]\n",
    "y_encoder = dataset_info[\"y_encoder\"]\n",
    "X_colnames = dataset_info[\"X_colnames\"]\n",
    "y_encoder = dataset_info[\"y_encoder\"]"
   ]
  },
  {
   "cell_type": "code",
   "execution_count": 32,
   "metadata": {},
   "outputs": [
    {
     "data": {
      "text/plain": [
       "array(['104.55.241.127'], dtype=object)"
      ]
     },
     "execution_count": 32,
     "metadata": {},
     "output_type": "execute_result"
    }
   ],
   "source": [
    "# a = decode_N_WGAN_GP(dataset_info[\"folds\"][0][\"X_test\"],dataset_info[\"folds\"][0][\"y_test\"], y_encoder, X_colnames, X_encoders, True, True)\n",
    "# a[a[\"class\"] == \"attacker\"][\"DstIP\"].unique()"
   ]
  },
  {
   "cell_type": "code",
   "execution_count": 36,
   "metadata": {},
   "outputs": [],
   "source": [
    "# create GAN\n",
    "model_gan = CIDDS_WCGAN_GP(\n",
    "    output_dim=output_dim,\n",
    "    num_classes=2,\n",
    "    x_col_labels=X_colnames,\n",
    "    x_encoders=X_encoders,\n",
    "    decoder_func=decode_N_WGAN_GP,\n",
    "    y_encoder=y_encoder,\n",
    "    hyperparams_to_tune=DEFAULT_HYPERPARAMS_TO_TUNE,\n",
    ")\n",
    "# compile the gan model\n",
    "model_gan.compile()\n"
   ]
  },
  {
   "cell_type": "code",
   "execution_count": 40,
   "metadata": {},
   "outputs": [],
   "source": [
    "# dummy tuner just to run evaluate_TSTR\n",
    "hypermodel = GANTunerModelCV(\n",
    "    output_dim=output_dim,\n",
    "    num_classes=2,\n",
    "    X_encoders=X_encoders,\n",
    "    y_encoder=y_encoder,\n",
    "    X_colnames=X_colnames,\n",
    "    decoder_func=decode_N_WGAN_GP,\n",
    ")\n"
   ]
  },
  {
   "cell_type": "code",
   "execution_count": 52,
   "metadata": {},
   "outputs": [
    {
     "name": "stderr",
     "output_type": "stream",
     "text": [
      "2023-11-29 03:19:00.561905: I tensorflow/core/common_runtime/executor.cc:1197] [/device:CPU:0] (DEBUG INFO) Executor start aborting (this does not indicate an error and you can ignore this message): INVALID_ARGUMENT: You must feed a value for placeholder tensor 'Placeholder/_6' with dtype float and shape [1,2]\n",
      "\t [[{{node Placeholder/_6}}]]\n",
      "2023-11-29 03:19:00.562218: I tensorflow/core/common_runtime/executor.cc:1197] [/device:CPU:0] (DEBUG INFO) Executor start aborting (this does not indicate an error and you can ignore this message): INVALID_ARGUMENT: You must feed a value for placeholder tensor 'Placeholder/_8' with dtype float and shape [93968,31]\n",
      "\t [[{{node Placeholder/_8}}]]\n",
      "2023-11-29 03:19:11.141216: I tensorflow/core/common_runtime/executor.cc:1197] [/device:CPU:0] (DEBUG INFO) Executor start aborting (this does not indicate an error and you can ignore this message): INVALID_ARGUMENT: You must feed a value for placeholder tensor 'Placeholder/_6' with dtype float and shape [1,2]\n",
      "\t [[{{node Placeholder/_6}}]]\n",
      "2023-11-29 03:19:11.141532: I tensorflow/core/common_runtime/executor.cc:1197] [/device:CPU:0] (DEBUG INFO) Executor start aborting (this does not indicate an error and you can ignore this message): INVALID_ARGUMENT: You must feed a value for placeholder tensor 'Placeholder/_8' with dtype float and shape [93968,31]\n",
      "\t [[{{node Placeholder/_8}}]]\n",
      "2023-11-29 03:19:21.422527: I tensorflow/core/common_runtime/executor.cc:1197] [/device:CPU:0] (DEBUG INFO) Executor start aborting (this does not indicate an error and you can ignore this message): INVALID_ARGUMENT: You must feed a value for placeholder tensor 'Placeholder/_8' with dtype float and shape [93968,31]\n",
      "\t [[{{node Placeholder/_8}}]]\n",
      "2023-11-29 03:19:21.422938: I tensorflow/core/common_runtime/executor.cc:1197] [/device:CPU:0] (DEBUG INFO) Executor start aborting (this does not indicate an error and you can ignore this message): INVALID_ARGUMENT: You must feed a value for placeholder tensor 'Placeholder/_8' with dtype float and shape [93968,31]\n",
      "\t [[{{node Placeholder/_8}}]]\n"
     ]
    }
   ],
   "source": [
    "# train the gan model\n",
    "hp_num_epochs = model_gan.hyperparams_to_tune[\"num_epochs\"]\n",
    "hp_batch_size = model_gan.hyperparams_to_tune[\"batch_size\"]\n",
    "\n",
    "# for each fold in dataset_folds, obtain TSTR score and return the average\n",
    "tstr_scores = []\n",
    "dataset_folds = dataset_info[\"folds\"]\n",
    "for i, fold in enumerate(dataset_folds):\n",
    "    # unpack the fold\n",
    "    real_dataset = fold[\"train_dataset\"]\n",
    "    X_test = fold[\"X_test\"]\n",
    "    y_test = fold[\"y_test\"]\n",
    "    # train the model\n",
    "    model_gan.fit(\n",
    "        real_dataset.batch(hp_batch_size),\n",
    "        epochs=hp_num_epochs,\n",
    "        verbose=0,\n",
    "        callbacks=[StopTrainingOnNaNCallback()],\n",
    "    )\n",
    "    # evaluate the gan model\n",
    "    tstr_score = hypermodel.evaluate_TSTR(model_gan, X_test, y_test)\n",
    "    tstr_scores.append(tstr_score)\n",
    "\n",
    "# return the average TSTR score\n",
    "avg_tstr_score = np.mean(tstr_scores)"
   ]
  },
  {
   "cell_type": "code",
   "execution_count": 53,
   "metadata": {},
   "outputs": [
    {
     "data": {
      "text/plain": [
       "0.7696638487879933"
      ]
     },
     "execution_count": 53,
     "metadata": {},
     "output_type": "execute_result"
    }
   ],
   "source": [
    "avg_tstr_score"
   ]
  },
  {
   "cell_type": "code",
   "execution_count": 62,
   "metadata": {},
   "outputs": [],
   "source": [
    "fake_X_y, retention_scores = model_gan.generate_n_plausible_samples(10000, 10000)\n",
    "fake_X = fake_X_y[:, :-1]\n",
    "fake_y = fake_X_y[:, -1].reshape(-1, 1)"
   ]
  },
  {
   "cell_type": "code",
   "execution_count": 63,
   "metadata": {},
   "outputs": [
    {
     "data": {
      "text/html": [
       "<div>\n",
       "<style scoped>\n",
       "    .dataframe tbody tr th:only-of-type {\n",
       "        vertical-align: middle;\n",
       "    }\n",
       "\n",
       "    .dataframe tbody tr th {\n",
       "        vertical-align: top;\n",
       "    }\n",
       "\n",
       "    .dataframe thead th {\n",
       "        text-align: right;\n",
       "    }\n",
       "</style>\n",
       "<table border=\"1\" class=\"dataframe\">\n",
       "  <thead>\n",
       "    <tr style=\"text-align: right;\">\n",
       "      <th></th>\n",
       "      <th>Duration</th>\n",
       "      <th>Proto</th>\n",
       "      <th>SrcPt</th>\n",
       "      <th>DstPt</th>\n",
       "      <th>Packets</th>\n",
       "      <th>Bytes</th>\n",
       "      <th>Flags</th>\n",
       "      <th>Date_first_seen</th>\n",
       "      <th>SrcIP</th>\n",
       "      <th>DstIP</th>\n",
       "      <th>class</th>\n",
       "    </tr>\n",
       "  </thead>\n",
       "  <tbody>\n",
       "    <tr>\n",
       "      <th>0</th>\n",
       "      <td>236550.4375</td>\n",
       "      <td>TCP</td>\n",
       "      <td>62761</td>\n",
       "      <td>0</td>\n",
       "      <td>1</td>\n",
       "      <td>40</td>\n",
       "      <td>....S.</td>\n",
       "      <td>Thursday 13:16:20</td>\n",
       "      <td>214.164.0.99</td>\n",
       "      <td>0.0.244.0</td>\n",
       "      <td>attacker</td>\n",
       "    </tr>\n",
       "    <tr>\n",
       "      <th>1</th>\n",
       "      <td>0.0000</td>\n",
       "      <td>TCP</td>\n",
       "      <td>0</td>\n",
       "      <td>21852</td>\n",
       "      <td>1</td>\n",
       "      <td>40</td>\n",
       "      <td>.AP.SF</td>\n",
       "      <td>Tuesday 2 days, 0:53:46</td>\n",
       "      <td>0.0.281.236</td>\n",
       "      <td>381.298.0.153</td>\n",
       "      <td>normal</td>\n",
       "    </tr>\n",
       "    <tr>\n",
       "      <th>2</th>\n",
       "      <td>0.0000</td>\n",
       "      <td>TCP</td>\n",
       "      <td>0</td>\n",
       "      <td>41417</td>\n",
       "      <td>1</td>\n",
       "      <td>40</td>\n",
       "      <td>.A..S.</td>\n",
       "      <td>Thursday 20:14:07</td>\n",
       "      <td>0.81.65.70</td>\n",
       "      <td>245.214.60.111</td>\n",
       "      <td>attacker</td>\n",
       "    </tr>\n",
       "    <tr>\n",
       "      <th>3</th>\n",
       "      <td>0.0000</td>\n",
       "      <td>TCP</td>\n",
       "      <td>0</td>\n",
       "      <td>9761</td>\n",
       "      <td>1</td>\n",
       "      <td>40</td>\n",
       "      <td>.AP.SF</td>\n",
       "      <td>Friday 1 day, 1:06:00</td>\n",
       "      <td>0.0.179.132</td>\n",
       "      <td>181.241.111.205</td>\n",
       "      <td>normal</td>\n",
       "    </tr>\n",
       "    <tr>\n",
       "      <th>4</th>\n",
       "      <td>0.0000</td>\n",
       "      <td>TCP</td>\n",
       "      <td>56547</td>\n",
       "      <td>0</td>\n",
       "      <td>1</td>\n",
       "      <td>40</td>\n",
       "      <td>....SF</td>\n",
       "      <td>Wednesday 2:35:52</td>\n",
       "      <td>371.99.0.0</td>\n",
       "      <td>0.0.253.0</td>\n",
       "      <td>attacker</td>\n",
       "    </tr>\n",
       "  </tbody>\n",
       "</table>\n",
       "</div>"
      ],
      "text/plain": [
       "      Duration Proto  SrcPt  DstPt  Packets  Bytes   Flags  \\\n",
       "0  236550.4375   TCP  62761      0        1     40  ....S.   \n",
       "1       0.0000   TCP      0  21852        1     40  .AP.SF   \n",
       "2       0.0000   TCP      0  41417        1     40  .A..S.   \n",
       "3       0.0000   TCP      0   9761        1     40  .AP.SF   \n",
       "4       0.0000   TCP  56547      0        1     40  ....SF   \n",
       "\n",
       "           Date_first_seen         SrcIP            DstIP     class  \n",
       "0        Thursday 13:16:20  214.164.0.99        0.0.244.0  attacker  \n",
       "1  Tuesday 2 days, 0:53:46   0.0.281.236    381.298.0.153    normal  \n",
       "2        Thursday 20:14:07    0.81.65.70   245.214.60.111  attacker  \n",
       "3    Friday 1 day, 1:06:00   0.0.179.132  181.241.111.205    normal  \n",
       "4        Wednesday 2:35:52    371.99.0.0        0.0.253.0  attacker  "
      ]
     },
     "metadata": {},
     "output_type": "display_data"
    },
    {
     "data": {
      "text/html": [
       "<div>\n",
       "<style scoped>\n",
       "    .dataframe tbody tr th:only-of-type {\n",
       "        vertical-align: middle;\n",
       "    }\n",
       "\n",
       "    .dataframe tbody tr th {\n",
       "        vertical-align: top;\n",
       "    }\n",
       "\n",
       "    .dataframe thead th {\n",
       "        text-align: right;\n",
       "    }\n",
       "</style>\n",
       "<table border=\"1\" class=\"dataframe\">\n",
       "  <thead>\n",
       "    <tr style=\"text-align: right;\">\n",
       "      <th></th>\n",
       "      <th>Duration</th>\n",
       "      <th>SrcPt</th>\n",
       "      <th>DstPt</th>\n",
       "      <th>Packets</th>\n",
       "      <th>Bytes</th>\n",
       "    </tr>\n",
       "  </thead>\n",
       "  <tbody>\n",
       "    <tr>\n",
       "      <th>count</th>\n",
       "      <td>10000.000000</td>\n",
       "      <td>10000.000000</td>\n",
       "      <td>10000.000000</td>\n",
       "      <td>10000.000000</td>\n",
       "      <td>1.000000e+04</td>\n",
       "    </tr>\n",
       "    <tr>\n",
       "      <th>mean</th>\n",
       "      <td>890.286194</td>\n",
       "      <td>13356.378800</td>\n",
       "      <td>16903.302200</td>\n",
       "      <td>346.352100</td>\n",
       "      <td>1.444609e+06</td>\n",
       "    </tr>\n",
       "    <tr>\n",
       "      <th>std</th>\n",
       "      <td>11570.135742</td>\n",
       "      <td>18552.453724</td>\n",
       "      <td>20028.073529</td>\n",
       "      <td>4350.387062</td>\n",
       "      <td>1.776727e+07</td>\n",
       "    </tr>\n",
       "    <tr>\n",
       "      <th>min</th>\n",
       "      <td>0.000000</td>\n",
       "      <td>0.000000</td>\n",
       "      <td>0.000000</td>\n",
       "      <td>1.000000</td>\n",
       "      <td>4.000000e+01</td>\n",
       "    </tr>\n",
       "    <tr>\n",
       "      <th>25%</th>\n",
       "      <td>0.000000</td>\n",
       "      <td>0.000000</td>\n",
       "      <td>0.000000</td>\n",
       "      <td>1.000000</td>\n",
       "      <td>4.000000e+01</td>\n",
       "    </tr>\n",
       "    <tr>\n",
       "      <th>50%</th>\n",
       "      <td>0.000000</td>\n",
       "      <td>0.000000</td>\n",
       "      <td>7326.000000</td>\n",
       "      <td>1.000000</td>\n",
       "      <td>4.000000e+01</td>\n",
       "    </tr>\n",
       "    <tr>\n",
       "      <th>75%</th>\n",
       "      <td>0.000000</td>\n",
       "      <td>24501.000000</td>\n",
       "      <td>31875.500000</td>\n",
       "      <td>1.000000</td>\n",
       "      <td>4.000000e+01</td>\n",
       "    </tr>\n",
       "    <tr>\n",
       "      <th>max</th>\n",
       "      <td>342866.531250</td>\n",
       "      <td>65490.000000</td>\n",
       "      <td>65504.000000</td>\n",
       "      <td>109454.000000</td>\n",
       "      <td>5.598989e+08</td>\n",
       "    </tr>\n",
       "  </tbody>\n",
       "</table>\n",
       "</div>"
      ],
      "text/plain": [
       "            Duration         SrcPt         DstPt        Packets         Bytes\n",
       "count   10000.000000  10000.000000  10000.000000   10000.000000  1.000000e+04\n",
       "mean      890.286194  13356.378800  16903.302200     346.352100  1.444609e+06\n",
       "std     11570.135742  18552.453724  20028.073529    4350.387062  1.776727e+07\n",
       "min         0.000000      0.000000      0.000000       1.000000  4.000000e+01\n",
       "25%         0.000000      0.000000      0.000000       1.000000  4.000000e+01\n",
       "50%         0.000000      0.000000   7326.000000       1.000000  4.000000e+01\n",
       "75%         0.000000  24501.000000  31875.500000       1.000000  4.000000e+01\n",
       "max    342866.531250  65490.000000  65504.000000  109454.000000  5.598989e+08"
      ]
     },
     "metadata": {},
     "output_type": "display_data"
    }
   ],
   "source": [
    "decoded_fakes = decode_N_WGAN_GP(fake_X, fake_y, y_encoder, X_colnames, X_encoders, True, True)\n",
    "display(decoded_fakes.head())\n",
    "display(decoded_fakes.describe())"
   ]
  },
  {
   "cell_type": "code",
   "execution_count": 72,
   "metadata": {},
   "outputs": [
    {
     "name": "stdout",
     "output_type": "stream",
     "text": [
      "0.9310045185957595\n"
     ]
    }
   ],
   "source": [
    "# train a random forest on the fake data and evaluate on real data (e.g. first fold of test set)\n",
    "from turtle import pos\n",
    "from sklearn.ensemble import RandomForestClassifier\n",
    "from sklearn.metrics import f1_score, classification_report\n",
    "\n",
    "X_test = dataset_info[\"folds\"][0][\"X_test\"]\n",
    "y_test = dataset_info[\"folds\"][0][\"y_test\"]\n",
    "\n",
    "rf = RandomForestClassifier()\n",
    "rf.fit(fake_X, fake_y.ravel())\n",
    "y_pred = rf.predict(X_test)\n",
    "\n",
    "attacker_label = y_encoder.transform([\"attacker\"])[0][0]\n",
    "\n",
    "print(f1_score(y_test, y_pred, pos_label=attacker_label))"
   ]
  },
  {
   "cell_type": "code",
   "execution_count": 70,
   "metadata": {},
   "outputs": [
    {
     "data": {
      "text/plain": [
       "0"
      ]
     },
     "execution_count": 70,
     "metadata": {},
     "output_type": "execute_result"
    }
   ],
   "source": [
    "attacker_label = y_encoder.transform([\"attacker\"])[0]\n",
    "attacker_label[0]"
   ]
  }
 ],
 "metadata": {
  "kernelspec": {
   "display_name": "Python 3",
   "language": "python",
   "name": "python3"
  },
  "language_info": {
   "codemirror_mode": {
    "name": "ipython",
    "version": 3
   },
   "file_extension": ".py",
   "mimetype": "text/x-python",
   "name": "python",
   "nbconvert_exporter": "python",
   "pygments_lexer": "ipython3",
   "version": "3.10.4"
  }
 },
 "nbformat": 4,
 "nbformat_minor": 2
}
